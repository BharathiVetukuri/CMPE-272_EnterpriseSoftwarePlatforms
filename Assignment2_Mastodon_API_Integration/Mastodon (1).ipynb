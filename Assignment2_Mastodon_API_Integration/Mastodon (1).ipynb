{
  "nbformat": 4,
  "nbformat_minor": 0,
  "metadata": {
    "colab": {
      "provenance": []
    },
    "kernelspec": {
      "name": "python3",
      "display_name": "Python 3"
    },
    "language_info": {
      "name": "python"
    }
  },
  "cells": [
    {
      "cell_type": "markdown",
      "source": [
        "Install the Mastodon.py library and request_mock (test code) (Written by Soumya Bharathi Vetukuri (016668964))"
      ],
      "metadata": {
        "id": "B1NEOebiitYv"
      }
    },
    {
      "cell_type": "code",
      "execution_count": 5,
      "metadata": {
        "colab": {
          "base_uri": "https://localhost:8080/"
        },
        "id": "WSUTCqJsk_R2",
        "outputId": "eb6a24fd-b6aa-4063-861c-c66011254366"
      },
      "outputs": [
        {
          "output_type": "stream",
          "name": "stdout",
          "text": [
            "Requirement already satisfied: mastodon.py in /usr/local/lib/python3.10/dist-packages (1.8.1)\n",
            "Requirement already satisfied: requests_mock in /usr/local/lib/python3.10/dist-packages (1.12.1)\n",
            "Requirement already satisfied: Flask in /usr/local/lib/python3.10/dist-packages (2.2.5)\n",
            "Requirement already satisfied: requests>=2.4.2 in /usr/local/lib/python3.10/dist-packages (from mastodon.py) (2.32.3)\n",
            "Requirement already satisfied: python-dateutil in /usr/local/lib/python3.10/dist-packages (from mastodon.py) (2.8.2)\n",
            "Requirement already satisfied: six in /usr/local/lib/python3.10/dist-packages (from mastodon.py) (1.16.0)\n",
            "Requirement already satisfied: decorator>=4.0.0 in /usr/local/lib/python3.10/dist-packages (from mastodon.py) (4.4.2)\n",
            "Requirement already satisfied: blurhash>=1.1.4 in /usr/local/lib/python3.10/dist-packages (from mastodon.py) (1.1.4)\n",
            "Requirement already satisfied: python-magic in /usr/local/lib/python3.10/dist-packages (from mastodon.py) (0.4.27)\n",
            "Requirement already satisfied: Werkzeug>=2.2.2 in /usr/local/lib/python3.10/dist-packages (from Flask) (3.0.4)\n",
            "Requirement already satisfied: Jinja2>=3.0 in /usr/local/lib/python3.10/dist-packages (from Flask) (3.1.4)\n",
            "Requirement already satisfied: itsdangerous>=2.0 in /usr/local/lib/python3.10/dist-packages (from Flask) (2.2.0)\n",
            "Requirement already satisfied: click>=8.0 in /usr/local/lib/python3.10/dist-packages (from Flask) (8.1.7)\n",
            "Requirement already satisfied: MarkupSafe>=2.0 in /usr/local/lib/python3.10/dist-packages (from Jinja2>=3.0->Flask) (2.1.5)\n",
            "Requirement already satisfied: charset-normalizer<4,>=2 in /usr/local/lib/python3.10/dist-packages (from requests>=2.4.2->mastodon.py) (3.3.2)\n",
            "Requirement already satisfied: idna<4,>=2.5 in /usr/local/lib/python3.10/dist-packages (from requests>=2.4.2->mastodon.py) (3.10)\n",
            "Requirement already satisfied: urllib3<3,>=1.21.1 in /usr/local/lib/python3.10/dist-packages (from requests>=2.4.2->mastodon.py) (2.2.3)\n",
            "Requirement already satisfied: certifi>=2017.4.17 in /usr/local/lib/python3.10/dist-packages (from requests>=2.4.2->mastodon.py) (2024.8.30)\n"
          ]
        }
      ],
      "source": [
        "!pip install mastodon.py requests_mock Flask"
      ]
    },
    {
      "cell_type": "code",
      "source": [
        "Install the required libraries and dependencies"
      ],
      "metadata": {
        "id": "R_j1-kuSjsv1"
      },
      "execution_count": null,
      "outputs": []
    },
    {
      "cell_type": "code",
      "source": [
        "from mastodon import Mastodon\n",
        "import os\n",
        "import requests_mock"
      ],
      "metadata": {
        "id": "gF_55euvlXBt"
      },
      "execution_count": 6,
      "outputs": []
    },
    {
      "cell_type": "code",
      "source": [
        "Mastodon Social API Integration"
      ],
      "metadata": {
        "id": "lR9Ne2scjwk9"
      },
      "execution_count": null,
      "outputs": []
    },
    {
      "cell_type": "code",
      "source": [
        "mastodon = Mastodon(\n",
        "    access_token = 'DdnhXFYeb0z60qCiJUriXu0gYIqLS01-9ZUQHM_qjzg',\n",
        "    api_base_url = 'https://mastodon.social'\n",
        ")"
      ],
      "metadata": {
        "id": "KALK87ejlkr2"
      },
      "execution_count": 7,
      "outputs": []
    },
    {
      "cell_type": "code",
      "source": [
        "Create, Retrieve and Delete Post Functions\n",
        "Written by Soumya Bharathi Vetukuri (016668964)"
      ],
      "metadata": {
        "id": "eNSDFT8Kj5va"
      },
      "execution_count": null,
      "outputs": []
    },
    {
      "cell_type": "code",
      "source": [
        "post_id = None\n",
        "\n",
        "def create_post(status_text):\n",
        "    global post_id\n",
        "    status = mastodon.status_post(status_text) # Create a post\n",
        "    post_id = status['id'] # Generate Unique ID\n",
        "    return post_id\n",
        "    print(f\"Created Post: {status['content']} with ID {post_id} \")\n",
        "\n",
        "def retrieve_post(post_id):\n",
        "    if post_id is None:\n",
        "        print(\"No post to retrieve.\")\n",
        "        return \"No post to retrieve.\"\n",
        "    try:\n",
        "        retrieved_status = mastodon.status(post_id) #Retrieve the post based on the ID\n",
        "        print(retrieved_status)  # Print the retrieved post data to inspect it\n",
        "        return f\"Retrieved post: {retrieved_status['content']}\"\n",
        "    except Exception as e:\n",
        "        return f\"Error retrieving post: {str(e)}\"\n",
        "\n",
        "def delete_post():\n",
        "    global post_id\n",
        "    if post_id is None:\n",
        "        print(\"No post to delete.\")\n",
        "        return\n",
        "    mastodon.status_delete(post_id) #Delete the post based on the ID\n",
        "    print(f\"Deleted Post with ID {post_id}\")\n",
        "    post_id = None"
      ],
      "metadata": {
        "id": "1YokhYcImGie"
      },
      "execution_count": 14,
      "outputs": []
    },
    {
      "cell_type": "code",
      "source": [
        "Written by Soumya Bharathi Vetukuri (016668964)"
      ],
      "metadata": {
        "id": "oYsB03tKkU6-"
      },
      "execution_count": null,
      "outputs": []
    },
    {
      "cell_type": "code",
      "source": [
        "# Create a post and get the post ID\n",
        "post_id = create_post(\"Hello, Mastodon from Google Colab Now!\")\n",
        "\n",
        "# Now retrieve the post using the post ID\n",
        "retrieved_post = retrieve_post(post_id)\n",
        "print(retrieved_post)"
      ],
      "metadata": {
        "colab": {
          "base_uri": "https://localhost:8080/"
        },
        "id": "w6cHZvdLrAAK",
        "outputId": "6bc31b8d-b074-4714-f55e-54871d848af1"
      },
      "execution_count": 15,
      "outputs": [
        {
          "output_type": "stream",
          "name": "stdout",
          "text": [
            "{'id': 113216073719136556, 'created_at': datetime.datetime(2024, 9, 28, 16, 16, 27, 369000, tzinfo=tzlocal()), 'in_reply_to_id': None, 'in_reply_to_account_id': None, 'sensitive': False, 'spoiler_text': '', 'visibility': 'public', 'language': 'en', 'uri': 'https://mastodon.social/users/soumyabharathi/statuses/113216073719136556', 'url': 'https://mastodon.social/@soumyabharathi/113216073719136556', 'replies_count': 0, 'reblogs_count': 0, 'favourites_count': 0, 'edited_at': None, 'favourited': False, 'reblogged': False, 'muted': False, 'bookmarked': False, 'pinned': False, 'content': '<p>Hello, Mastodon from Google Colab Now!</p>', 'filtered': [], 'reblog': None, 'application': {'name': 'CMPE-272 Assignment 2', 'website': None}, 'account': {'id': 113213780513583622, 'username': 'soumyabharathi', 'acct': 'soumyabharathi', 'display_name': '', 'locked': False, 'bot': False, 'discoverable': None, 'indexable': False, 'group': False, 'created_at': datetime.datetime(2024, 9, 28, 0, 0, tzinfo=tzlocal()), 'note': '', 'url': 'https://mastodon.social/@soumyabharathi', 'uri': 'https://mastodon.social/users/soumyabharathi', 'avatar': 'https://mastodon.social/avatars/original/missing.png', 'avatar_static': 'https://mastodon.social/avatars/original/missing.png', 'header': 'https://mastodon.social/headers/original/missing.png', 'header_static': 'https://mastodon.social/headers/original/missing.png', 'followers_count': 0, 'following_count': 0, 'statuses_count': 6, 'last_status_at': datetime.datetime(2024, 9, 28, 0, 0), 'hide_collections': None, 'noindex': False, 'emojis': [], 'roles': [], 'fields': []}, 'media_attachments': [], 'mentions': [], 'tags': [], 'emojis': [], 'card': None, 'poll': None}\n",
            "Retrieved post: <p>Hello, Mastodon from Google Colab Now!</p>\n"
          ]
        }
      ]
    },
    {
      "cell_type": "code",
      "source": [
        "delete_post()"
      ],
      "metadata": {
        "colab": {
          "base_uri": "https://localhost:8080/"
        },
        "id": "7IRBg3OssU56",
        "outputId": "bd275bc2-4786-4ac6-a304-740bfe46065a"
      },
      "execution_count": 17,
      "outputs": [
        {
          "output_type": "stream",
          "name": "stdout",
          "text": [
            "No post to delete.\n"
          ]
        }
      ]
    },
    {
      "cell_type": "code",
      "source": [
        "Mock Unit Test Check"
      ],
      "metadata": {
        "id": "xmekA_brkjPI"
      },
      "execution_count": null,
      "outputs": []
    },
    {
      "cell_type": "code",
      "source": [
        "import unittest\n",
        "import requests_mock\n",
        "import requests\n",
        "\n",
        "class TestMocking(unittest.TestCase):\n",
        "    @requests_mock.Mocker()\n",
        "    def test_mock_request(self, mock):\n",
        "        mock.get('http://test.com', text='response content')\n",
        "        response = requests.get('http://test.com')\n",
        "        self.assertEqual(response.text, 'response content')\n",
        "\n",
        "# Run the tests\n",
        "if __name__ == '__main__':\n",
        "    unittest.main(argv=[''], verbosity=2, exit=False)"
      ],
      "metadata": {
        "colab": {
          "base_uri": "https://localhost:8080/"
        },
        "id": "xtYIHL3wea6j",
        "outputId": "1b71c214-0476-409e-a084-0100116861c3"
      },
      "execution_count": 20,
      "outputs": [
        {
          "output_type": "stream",
          "name": "stderr",
          "text": [
            "test_basic (__main__.SimpleTest) ... ok\n",
            "test_mock_request (__main__.TestMocking) ... ok\n",
            "\n",
            "----------------------------------------------------------------------\n",
            "Ran 2 tests in 0.012s\n",
            "\n",
            "OK\n"
          ]
        }
      ]
    },
    {
      "cell_type": "code",
      "source": [
        "Written by Rutuja Patil"
      ],
      "metadata": {
        "id": "QovWlZu-kYLH"
      },
      "execution_count": null,
      "outputs": []
    },
    {
      "cell_type": "code",
      "source": [
        "#Unit Testing\n",
        "\n",
        "import unittest\n",
        "import requests_mock\n",
        "from mastodon import Mastodon\n",
        "\n",
        "class TestMastodonService(unittest.TestCase):\n",
        "  def setUp(self):\n",
        "    self.mastodon = Mastodon(\n",
        "        access_token = 'DdnhXFYeb0z60qCiJUriXu0gYIqLS01-9ZUQHM_qjzg',\n",
        "        api_base_url = 'https://mastodon.social'\n",
        "    )\n",
        "\n",
        "  @requests_mock.Mocker()\n",
        "  def test_create_post(self, mock):\n",
        "      mock.post('https://mastodon.social/api/v1/statuses', json={'id': 123, 'content': 'Test Post'})\n",
        "      status = self.mastodon.status_post('Test Post')\n",
        "      self.assertEqual(status['id'], 123)\n",
        "      self.assertEqual(status['content'], 'Test Post')\n",
        "\n",
        "  @requests_mock.Mocker()\n",
        "  def test_retrieve_post(self, mock):\n",
        "      mock.get('https://mastodon.social/api/v1/statuses/123', json={'id': 123, 'content': 'Test Post'})\n",
        "      status = self.mastodon.status(123)\n",
        "      self.assertEqual(status['content'], 'Test Post')\n",
        "\n",
        "  @requests_mock.Mocker()\n",
        "  def test_delete_post(self, mock):\n",
        "      mock.delete('https://mastodon.social/api/v1/statuses/123', json={})\n",
        "      response = self.mastodon.status_delete(123)\n",
        "      self.assertEqual(response, {})\n",
        "\n",
        "if __name__ == '__main__':\n",
        "  unittest.main(argv=[''], verbosity=2, exit=False)"
      ],
      "metadata": {
        "colab": {
          "base_uri": "https://localhost:8080/"
        },
        "id": "0h-xv4dTUPu-",
        "outputId": "985196cd-8f4c-4b6f-8ecd-6d9244d20925"
      },
      "execution_count": 23,
      "outputs": [
        {
          "output_type": "stream",
          "name": "stderr",
          "text": [
            "test_basic (__main__.SimpleTest) ... ok\n",
            "test_create_post (__main__.TestMastodonService) ... ok\n",
            "test_delete_post (__main__.TestMastodonService) ... ok\n",
            "test_retrieve_post (__main__.TestMastodonService) ... ok\n",
            "test_mock_request (__main__.TestMocking) ... ok\n",
            "\n",
            "----------------------------------------------------------------------\n",
            "Ran 5 tests in 0.218s\n",
            "\n",
            "OK\n"
          ]
        }
      ]
    }
  ]
}