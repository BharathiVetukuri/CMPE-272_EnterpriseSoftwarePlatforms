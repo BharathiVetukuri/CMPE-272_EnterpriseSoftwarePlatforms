{
  "nbformat": 4,
  "nbformat_minor": 0,
  "metadata": {
    "colab": {
      "provenance": [],
      "gpuType": "T4"
    },
    "kernelspec": {
      "name": "python3",
      "display_name": "Python 3"
    },
    "language_info": {
      "name": "python"
    },
    "accelerator": "GPU"
  },
  "cells": [
    {
      "cell_type": "code",
      "execution_count": null,
      "metadata": {
        "colab": {
          "base_uri": "https://localhost:8080/"
        },
        "id": "WSUTCqJsk_R2",
        "outputId": "8279b7fb-6baf-49e8-f875-e67b6b3b0783"
      },
      "outputs": [
        {
          "output_type": "stream",
          "name": "stdout",
          "text": [
            "Collecting mastodon.py\n",
            "  Downloading Mastodon.py-1.8.1-py2.py3-none-any.whl.metadata (3.9 kB)\n",
            "Collecting requests_mock\n",
            "  Downloading requests_mock-1.12.1-py2.py3-none-any.whl.metadata (4.1 kB)\n",
            "Requirement already satisfied: Flask in /usr/local/lib/python3.10/dist-packages (2.2.5)\n",
            "Requirement already satisfied: requests>=2.4.2 in /usr/local/lib/python3.10/dist-packages (from mastodon.py) (2.32.3)\n",
            "Requirement already satisfied: python-dateutil in /usr/local/lib/python3.10/dist-packages (from mastodon.py) (2.8.2)\n",
            "Requirement already satisfied: six in /usr/local/lib/python3.10/dist-packages (from mastodon.py) (1.16.0)\n",
            "Requirement already satisfied: decorator>=4.0.0 in /usr/local/lib/python3.10/dist-packages (from mastodon.py) (4.4.2)\n",
            "Collecting blurhash>=1.1.4 (from mastodon.py)\n",
            "  Downloading blurhash-1.1.4-py2.py3-none-any.whl.metadata (769 bytes)\n",
            "Collecting python-magic (from mastodon.py)\n",
            "  Downloading python_magic-0.4.27-py2.py3-none-any.whl.metadata (5.8 kB)\n",
            "Requirement already satisfied: Werkzeug>=2.2.2 in /usr/local/lib/python3.10/dist-packages (from Flask) (3.0.4)\n",
            "Requirement already satisfied: Jinja2>=3.0 in /usr/local/lib/python3.10/dist-packages (from Flask) (3.1.4)\n",
            "Requirement already satisfied: itsdangerous>=2.0 in /usr/local/lib/python3.10/dist-packages (from Flask) (2.2.0)\n",
            "Requirement already satisfied: click>=8.0 in /usr/local/lib/python3.10/dist-packages (from Flask) (8.1.7)\n",
            "Requirement already satisfied: MarkupSafe>=2.0 in /usr/local/lib/python3.10/dist-packages (from Jinja2>=3.0->Flask) (2.1.5)\n",
            "Requirement already satisfied: charset-normalizer<4,>=2 in /usr/local/lib/python3.10/dist-packages (from requests>=2.4.2->mastodon.py) (3.3.2)\n",
            "Requirement already satisfied: idna<4,>=2.5 in /usr/local/lib/python3.10/dist-packages (from requests>=2.4.2->mastodon.py) (3.10)\n",
            "Requirement already satisfied: urllib3<3,>=1.21.1 in /usr/local/lib/python3.10/dist-packages (from requests>=2.4.2->mastodon.py) (2.2.3)\n",
            "Requirement already satisfied: certifi>=2017.4.17 in /usr/local/lib/python3.10/dist-packages (from requests>=2.4.2->mastodon.py) (2024.8.30)\n",
            "Downloading Mastodon.py-1.8.1-py2.py3-none-any.whl (65 kB)\n",
            "\u001b[2K   \u001b[90m━━━━━━━━━━━━━━━━━━━━━━━━━━━━━━━━━━━━━━━━\u001b[0m \u001b[32m65.9/65.9 kB\u001b[0m \u001b[31m4.2 MB/s\u001b[0m eta \u001b[36m0:00:00\u001b[0m\n",
            "\u001b[?25hDownloading requests_mock-1.12.1-py2.py3-none-any.whl (27 kB)\n",
            "Downloading blurhash-1.1.4-py2.py3-none-any.whl (5.3 kB)\n",
            "Downloading python_magic-0.4.27-py2.py3-none-any.whl (13 kB)\n",
            "Installing collected packages: blurhash, python-magic, requests_mock, mastodon.py\n",
            "Successfully installed blurhash-1.1.4 mastodon.py-1.8.1 python-magic-0.4.27 requests_mock-1.12.1\n"
          ]
        }
      ],
      "source": [
        "!pip install mastodon.py requests_mock Flask"
      ]
    },
    {
      "cell_type": "code",
      "source": [
        "from mastodon import Mastodon\n",
        "import os\n",
        "import requests_mock"
      ],
      "metadata": {
        "id": "gF_55euvlXBt"
      },
      "execution_count": null,
      "outputs": []
    },
    {
      "cell_type": "code",
      "source": [
        "# mastodon = Mastodon(\n",
        "#     access_token = 'DdnhXFYeb0z60qCiJUriXu0gYIqLS01-9ZUQHM_qjzg',\n",
        "#     api_base_url = 'https://mastodon.social'\n",
        "# )"
      ],
      "metadata": {
        "id": "KALK87ejlkr2"
      },
      "execution_count": null,
      "outputs": []
    },
    {
      "cell_type": "code",
      "source": [
        "# post_id = None\n",
        "\n",
        "# def create_post(status_text):\n",
        "#     global post_id\n",
        "#     status = mastodon.status_post(status_text)\n",
        "#     post_id = status['id']\n",
        "#     return post_id\n",
        "#     print(f\"Created Post: {status['content']} with ID {post_id} \")\n",
        "\n",
        "# def retrieve_post(post_id):\n",
        "#     if post_id is None:\n",
        "#         print(\"No post to retrieve.\")\n",
        "#         return \"No post to retrieve.\"\n",
        "#     try:\n",
        "#         retrieved_status = mastodon.status(post_id)\n",
        "#         print(retrieved_status)  # Print the retrieved post data to inspect it\n",
        "#         return f\"Retrieved post: {retrieved_status['content']}\"\n",
        "#     except Exception as e:\n",
        "#         return f\"Error retrieving post: {str(e)}\"\n",
        "\n",
        "# def delete_post():\n",
        "#     global post_id\n",
        "#     if post_id is None:\n",
        "#         print(\"No post to delete.\")\n",
        "#         return\n",
        "#     mastodon.status_delete(post_id)\n",
        "#     print(f\"Deleted Post with ID {post_id}\")\n",
        "#     post_id = None"
      ],
      "metadata": {
        "id": "1YokhYcImGie"
      },
      "execution_count": null,
      "outputs": []
    },
    {
      "cell_type": "code",
      "source": [
        "# # Create a post and get the post ID\n",
        "# post_id = create_post(\"Hello, Mastodon from Google Colab Now!\")\n",
        "\n",
        "# # Now retrieve the post using the post ID\n",
        "# retrieved_post = retrieve_post(post_id)\n",
        "# print(retrieved_post)"
      ],
      "metadata": {
        "colab": {
          "base_uri": "https://localhost:8080/"
        },
        "id": "w6cHZvdLrAAK",
        "outputId": "c14e012e-60cd-4a53-cd4c-7bcaeb0bb364"
      },
      "execution_count": null,
      "outputs": [
        {
          "output_type": "stream",
          "name": "stdout",
          "text": [
            "{'id': 113216134352090513, 'created_at': datetime.datetime(2024, 9, 28, 16, 31, 52, 552000, tzinfo=tzlocal()), 'in_reply_to_id': None, 'in_reply_to_account_id': None, 'sensitive': False, 'spoiler_text': '', 'visibility': 'public', 'language': 'en', 'uri': 'https://mastodon.social/users/soumyabharathi/statuses/113216134352090513', 'url': 'https://mastodon.social/@soumyabharathi/113216134352090513', 'replies_count': 0, 'reblogs_count': 0, 'favourites_count': 0, 'edited_at': None, 'favourited': False, 'reblogged': False, 'muted': False, 'bookmarked': False, 'pinned': False, 'content': '<p>Hello, Mastodon from Google Colab Now!</p>', 'filtered': [], 'reblog': None, 'application': {'name': 'CMPE-272 Assignment 2', 'website': None}, 'account': {'id': 113213780513583622, 'username': 'soumyabharathi', 'acct': 'soumyabharathi', 'display_name': '', 'locked': False, 'bot': False, 'discoverable': None, 'indexable': False, 'group': False, 'created_at': datetime.datetime(2024, 9, 28, 0, 0, tzinfo=tzlocal()), 'note': '', 'url': 'https://mastodon.social/@soumyabharathi', 'uri': 'https://mastodon.social/users/soumyabharathi', 'avatar': 'https://mastodon.social/avatars/original/missing.png', 'avatar_static': 'https://mastodon.social/avatars/original/missing.png', 'header': 'https://mastodon.social/headers/original/missing.png', 'header_static': 'https://mastodon.social/headers/original/missing.png', 'followers_count': 0, 'following_count': 0, 'statuses_count': 7, 'last_status_at': datetime.datetime(2024, 9, 28, 0, 0), 'hide_collections': None, 'noindex': False, 'emojis': [], 'roles': [], 'fields': []}, 'media_attachments': [], 'mentions': [], 'tags': [], 'emojis': [], 'card': None, 'poll': None}\n",
            "Retrieved post: <p>Hello, Mastodon from Google Colab Now!</p>\n"
          ]
        }
      ]
    },
    {
      "cell_type": "code",
      "source": [
        "delete_post()"
      ],
      "metadata": {
        "colab": {
          "base_uri": "https://localhost:8080/"
        },
        "id": "7IRBg3OssU56",
        "outputId": "dabbfda7-671f-4343-b305-1ca800141eb8"
      },
      "execution_count": null,
      "outputs": [
        {
          "output_type": "stream",
          "name": "stdout",
          "text": [
            "Deleted Post with ID 113216134352090513\n"
          ]
        }
      ]
    },
    {
      "cell_type": "code",
      "source": [
        "!pip install streamlit"
      ],
      "metadata": {
        "colab": {
          "base_uri": "https://localhost:8080/"
        },
        "id": "r9FrWIOrc2gt",
        "outputId": "604c68f0-60fa-4632-d73c-c3d31a80c102",
        "collapsed": true
      },
      "execution_count": null,
      "outputs": [
        {
          "output_type": "stream",
          "name": "stdout",
          "text": [
            "Collecting streamlit\n",
            "  Downloading streamlit-1.38.0-py2.py3-none-any.whl.metadata (8.5 kB)\n",
            "Requirement already satisfied: altair<6,>=4.0 in /usr/local/lib/python3.10/dist-packages (from streamlit) (4.2.2)\n",
            "Requirement already satisfied: blinker<2,>=1.0.0 in /usr/lib/python3/dist-packages (from streamlit) (1.4)\n",
            "Requirement already satisfied: cachetools<6,>=4.0 in /usr/local/lib/python3.10/dist-packages (from streamlit) (5.5.0)\n",
            "Requirement already satisfied: click<9,>=7.0 in /usr/local/lib/python3.10/dist-packages (from streamlit) (8.1.7)\n",
            "Requirement already satisfied: numpy<3,>=1.20 in /usr/local/lib/python3.10/dist-packages (from streamlit) (1.26.4)\n",
            "Requirement already satisfied: packaging<25,>=20 in /usr/local/lib/python3.10/dist-packages (from streamlit) (24.1)\n",
            "Requirement already satisfied: pandas<3,>=1.3.0 in /usr/local/lib/python3.10/dist-packages (from streamlit) (2.1.4)\n",
            "Requirement already satisfied: pillow<11,>=7.1.0 in /usr/local/lib/python3.10/dist-packages (from streamlit) (10.4.0)\n",
            "Requirement already satisfied: protobuf<6,>=3.20 in /usr/local/lib/python3.10/dist-packages (from streamlit) (3.20.3)\n",
            "Requirement already satisfied: pyarrow>=7.0 in /usr/local/lib/python3.10/dist-packages (from streamlit) (14.0.2)\n",
            "Requirement already satisfied: requests<3,>=2.27 in /usr/local/lib/python3.10/dist-packages (from streamlit) (2.32.3)\n",
            "Requirement already satisfied: rich<14,>=10.14.0 in /usr/local/lib/python3.10/dist-packages (from streamlit) (13.8.1)\n",
            "Collecting tenacity<9,>=8.1.0 (from streamlit)\n",
            "  Downloading tenacity-8.5.0-py3-none-any.whl.metadata (1.2 kB)\n",
            "Requirement already satisfied: toml<2,>=0.10.1 in /usr/local/lib/python3.10/dist-packages (from streamlit) (0.10.2)\n",
            "Requirement already satisfied: typing-extensions<5,>=4.3.0 in /usr/local/lib/python3.10/dist-packages (from streamlit) (4.12.2)\n",
            "Collecting gitpython!=3.1.19,<4,>=3.0.7 (from streamlit)\n",
            "  Downloading GitPython-3.1.43-py3-none-any.whl.metadata (13 kB)\n",
            "Collecting pydeck<1,>=0.8.0b4 (from streamlit)\n",
            "  Downloading pydeck-0.9.1-py2.py3-none-any.whl.metadata (4.1 kB)\n",
            "Requirement already satisfied: tornado<7,>=6.0.3 in /usr/local/lib/python3.10/dist-packages (from streamlit) (6.3.3)\n",
            "Collecting watchdog<5,>=2.1.5 (from streamlit)\n",
            "  Downloading watchdog-4.0.2-py3-none-manylinux2014_x86_64.whl.metadata (38 kB)\n",
            "Requirement already satisfied: entrypoints in /usr/local/lib/python3.10/dist-packages (from altair<6,>=4.0->streamlit) (0.4)\n",
            "Requirement already satisfied: jinja2 in /usr/local/lib/python3.10/dist-packages (from altair<6,>=4.0->streamlit) (3.1.4)\n",
            "Requirement already satisfied: jsonschema>=3.0 in /usr/local/lib/python3.10/dist-packages (from altair<6,>=4.0->streamlit) (4.23.0)\n",
            "Requirement already satisfied: toolz in /usr/local/lib/python3.10/dist-packages (from altair<6,>=4.0->streamlit) (0.12.1)\n",
            "Collecting gitdb<5,>=4.0.1 (from gitpython!=3.1.19,<4,>=3.0.7->streamlit)\n",
            "  Downloading gitdb-4.0.11-py3-none-any.whl.metadata (1.2 kB)\n",
            "Requirement already satisfied: python-dateutil>=2.8.2 in /usr/local/lib/python3.10/dist-packages (from pandas<3,>=1.3.0->streamlit) (2.8.2)\n",
            "Requirement already satisfied: pytz>=2020.1 in /usr/local/lib/python3.10/dist-packages (from pandas<3,>=1.3.0->streamlit) (2024.2)\n",
            "Requirement already satisfied: tzdata>=2022.1 in /usr/local/lib/python3.10/dist-packages (from pandas<3,>=1.3.0->streamlit) (2024.1)\n",
            "Requirement already satisfied: charset-normalizer<4,>=2 in /usr/local/lib/python3.10/dist-packages (from requests<3,>=2.27->streamlit) (3.3.2)\n",
            "Requirement already satisfied: idna<4,>=2.5 in /usr/local/lib/python3.10/dist-packages (from requests<3,>=2.27->streamlit) (3.10)\n",
            "Requirement already satisfied: urllib3<3,>=1.21.1 in /usr/local/lib/python3.10/dist-packages (from requests<3,>=2.27->streamlit) (2.2.3)\n",
            "Requirement already satisfied: certifi>=2017.4.17 in /usr/local/lib/python3.10/dist-packages (from requests<3,>=2.27->streamlit) (2024.8.30)\n",
            "Requirement already satisfied: markdown-it-py>=2.2.0 in /usr/local/lib/python3.10/dist-packages (from rich<14,>=10.14.0->streamlit) (3.0.0)\n",
            "Requirement already satisfied: pygments<3.0.0,>=2.13.0 in /usr/local/lib/python3.10/dist-packages (from rich<14,>=10.14.0->streamlit) (2.18.0)\n",
            "Collecting smmap<6,>=3.0.1 (from gitdb<5,>=4.0.1->gitpython!=3.1.19,<4,>=3.0.7->streamlit)\n",
            "  Downloading smmap-5.0.1-py3-none-any.whl.metadata (4.3 kB)\n",
            "Requirement already satisfied: MarkupSafe>=2.0 in /usr/local/lib/python3.10/dist-packages (from jinja2->altair<6,>=4.0->streamlit) (2.1.5)\n",
            "Requirement already satisfied: attrs>=22.2.0 in /usr/local/lib/python3.10/dist-packages (from jsonschema>=3.0->altair<6,>=4.0->streamlit) (24.2.0)\n",
            "Requirement already satisfied: jsonschema-specifications>=2023.03.6 in /usr/local/lib/python3.10/dist-packages (from jsonschema>=3.0->altair<6,>=4.0->streamlit) (2023.12.1)\n",
            "Requirement already satisfied: referencing>=0.28.4 in /usr/local/lib/python3.10/dist-packages (from jsonschema>=3.0->altair<6,>=4.0->streamlit) (0.35.1)\n",
            "Requirement already satisfied: rpds-py>=0.7.1 in /usr/local/lib/python3.10/dist-packages (from jsonschema>=3.0->altair<6,>=4.0->streamlit) (0.20.0)\n",
            "Requirement already satisfied: mdurl~=0.1 in /usr/local/lib/python3.10/dist-packages (from markdown-it-py>=2.2.0->rich<14,>=10.14.0->streamlit) (0.1.2)\n",
            "Requirement already satisfied: six>=1.5 in /usr/local/lib/python3.10/dist-packages (from python-dateutil>=2.8.2->pandas<3,>=1.3.0->streamlit) (1.16.0)\n",
            "Downloading streamlit-1.38.0-py2.py3-none-any.whl (8.7 MB)\n",
            "\u001b[2K   \u001b[90m━━━━━━━━━━━━━━━━━━━━━━━━━━━━━━━━━━━━━━━━\u001b[0m \u001b[32m8.7/8.7 MB\u001b[0m \u001b[31m61.6 MB/s\u001b[0m eta \u001b[36m0:00:00\u001b[0m\n",
            "\u001b[?25hDownloading GitPython-3.1.43-py3-none-any.whl (207 kB)\n",
            "\u001b[2K   \u001b[90m━━━━━━━━━━━━━━━━━━━━━━━━━━━━━━━━━━━━━━━━\u001b[0m \u001b[32m207.3/207.3 kB\u001b[0m \u001b[31m18.8 MB/s\u001b[0m eta \u001b[36m0:00:00\u001b[0m\n",
            "\u001b[?25hDownloading pydeck-0.9.1-py2.py3-none-any.whl (6.9 MB)\n",
            "\u001b[2K   \u001b[90m━━━━━━━━━━━━━━━━━━━━━━━━━━━━━━━━━━━━━━━━\u001b[0m \u001b[32m6.9/6.9 MB\u001b[0m \u001b[31m73.0 MB/s\u001b[0m eta \u001b[36m0:00:00\u001b[0m\n",
            "\u001b[?25hDownloading tenacity-8.5.0-py3-none-any.whl (28 kB)\n",
            "Downloading watchdog-4.0.2-py3-none-manylinux2014_x86_64.whl (82 kB)\n",
            "\u001b[2K   \u001b[90m━━━━━━━━━━━━━━━━━━━━━━━━━━━━━━━━━━━━━━━━\u001b[0m \u001b[32m82.9/82.9 kB\u001b[0m \u001b[31m7.4 MB/s\u001b[0m eta \u001b[36m0:00:00\u001b[0m\n",
            "\u001b[?25hDownloading gitdb-4.0.11-py3-none-any.whl (62 kB)\n",
            "\u001b[2K   \u001b[90m━━━━━━━━━━━━━━━━━━━━━━━━━━━━━━━━━━━━━━━━\u001b[0m \u001b[32m62.7/62.7 kB\u001b[0m \u001b[31m8.1 MB/s\u001b[0m eta \u001b[36m0:00:00\u001b[0m\n",
            "\u001b[?25hDownloading smmap-5.0.1-py3-none-any.whl (24 kB)\n",
            "Installing collected packages: watchdog, tenacity, smmap, pydeck, gitdb, gitpython, streamlit\n",
            "  Attempting uninstall: tenacity\n",
            "    Found existing installation: tenacity 9.0.0\n",
            "    Uninstalling tenacity-9.0.0:\n",
            "      Successfully uninstalled tenacity-9.0.0\n",
            "Successfully installed gitdb-4.0.11 gitpython-3.1.43 pydeck-0.9.1 smmap-5.0.1 streamlit-1.38.0 tenacity-8.5.0 watchdog-4.0.2\n"
          ]
        }
      ]
    },
    {
      "cell_type": "code",
      "source": [
        "%%writefile app.py\n",
        "import streamlit as st\n",
        "from mastodon import Mastodon\n",
        "\n",
        "mastodon = Mastodon(\n",
        "    access_token = 'DdnhXFYeb0z60qCiJUriXu0gYIqLS01-9ZUQHM_qjzg',\n",
        "    api_base_url = 'https://mastodon.social'\n",
        ")\n",
        "\n",
        "# Initialize post_id as a session state variable\n",
        "if 'post_id' not in st.session_state:\n",
        "    st.session_state.post_id = None\n",
        "\n",
        "def create_post(status_text):\n",
        "    status = mastodon.status_post(status_text)\n",
        "    st.session_state.post_id = status['id']\n",
        "    return st.session_state.post_id\n",
        "\n",
        "def retrieve_post():\n",
        "    if st.session_state.post_id is None:\n",
        "        return \"No post to retrieve.\"\n",
        "    try:\n",
        "        retrieved_status = mastodon.status(st.session_state.post_id)\n",
        "        return f\"Retrieved post: {retrieved_status['content']}\"\n",
        "    except Exception as e:\n",
        "        return f\"Error retrieving post: {str(e)}\"\n",
        "\n",
        "def delete_post():\n",
        "    if st.session_state.post_id is None:\n",
        "        return \"No post to delete.\"\n",
        "    mastodon.status_delete(st.session_state.post_id)\n",
        "    result = f\"Deleted Post with ID {st.session_state.post_id}\"\n",
        "    st.session_state.post_id = None\n",
        "    return result\n",
        "\n",
        "st.set_page_config(page_title=\"Mastodon Post Manager\", page_icon=\"🐘\", layout=\"wide\")\n",
        "st.title(\"🐘 Mastodon Post Manager\")\n",
        "col1, col2 = st.columns(2)\n",
        "with col1:\n",
        "    st.header(\"Create Post\")\n",
        "    status_text = st.text_area(\"Enter your post content:\", height=100)\n",
        "    if st.button(\"Create Post\"):\n",
        "        if status_text:\n",
        "            created_id = create_post(status_text)\n",
        "            st.success(f\"Post created successfully! ID: {created_id}\")\n",
        "        else:\n",
        "            st.warning(\"Please enter some content for your post.\")\n",
        "with col2:\n",
        "    st.header(\"Manage Posts\")\n",
        "    if st.button(\"Retrieve Post\"):\n",
        "        result = retrieve_post()\n",
        "        st.info(result)\n",
        "\n",
        "    if st.button(\"Delete Post\"):\n",
        "        result = delete_post()\n",
        "        st.warning(result)\n",
        "\n",
        "st.sidebar.header(\"About\")\n",
        "st.sidebar.info(\"This Streamlit app allows you to create, retrieve, and delete Mastodon posts using the Mastodon API.\")\n",
        "st.sidebar.header(\"Current Post ID\")\n",
        "st.sidebar.text(f\"Post ID: {st.session_state.post_id if st.session_state.post_id else 'None'}\")\n",
        "\n"
      ],
      "metadata": {
        "colab": {
          "base_uri": "https://localhost:8080/"
        },
        "id": "QLgw526rcwZP",
        "outputId": "6787fc5e-4ad0-43a8-f64f-c76e190029a3"
      },
      "execution_count": null,
      "outputs": [
        {
          "output_type": "stream",
          "name": "stdout",
          "text": [
            "Writing app.py\n"
          ]
        }
      ]
    },
    {
      "cell_type": "code",
      "source": [
        "!wget -q -O - ipv4.icanhazip.com"
      ],
      "metadata": {
        "colab": {
          "base_uri": "https://localhost:8080/"
        },
        "id": "LM55s6VjdW_6",
        "outputId": "32a696f5-6e28-409e-8317-5817e0bb9303"
      },
      "execution_count": null,
      "outputs": [
        {
          "output_type": "stream",
          "name": "stdout",
          "text": [
            "34.125.210.113\n"
          ]
        }
      ]
    },
    {
      "cell_type": "code",
      "source": [
        "!streamlit run app.py & npx localtunnel --port 8501"
      ],
      "metadata": {
        "colab": {
          "base_uri": "https://localhost:8080/"
        },
        "id": "I96I33VjfBx2",
        "outputId": "92d7bc9b-46fa-480d-9d13-b0540572007e"
      },
      "execution_count": null,
      "outputs": [
        {
          "output_type": "stream",
          "name": "stdout",
          "text": [
            "\n",
            "Collecting usage statistics. To deactivate, set browser.gatherUsageStats to false.\n",
            "\u001b[0m\n",
            "\u001b[0m\n",
            "\u001b[34m\u001b[1m  You can now view your Streamlit app in your browser.\u001b[0m\n",
            "\u001b[0m\n",
            "\u001b[34m  Local URL: \u001b[0m\u001b[1mhttp://localhost:8501\u001b[0m\n",
            "\u001b[34m  Network URL: \u001b[0m\u001b[1mhttp://172.28.0.12:8501\u001b[0m\n",
            "\u001b[34m  External URL: \u001b[0m\u001b[1mhttp://34.125.210.113:8501\u001b[0m\n",
            "\u001b[0m\n",
            "\u001b[1G\u001b[0JNeed to install the following packages:\n",
            "  localtunnel@2.0.2\n",
            "Ok to proceed? (y) \u001b[20Gy\n",
            "\u001b[K\u001b[?25hyour url is: https://slimy-fans-speak.loca.lt\n",
            "y\n",
            "y\n",
            "\u001b[34m  Stopping...\u001b[0m\n",
            "^C\n"
          ]
        }
      ]
    },
    {
      "cell_type": "code",
      "source": [
        "#Unit Testing\n",
        "import unittest\n",
        "import requests_mock\n",
        "from mastodon import Mastodon\n",
        "class TestMastodonService(unittest.TestCase):\n",
        "  def setUp(self):\n",
        "    self.mastodon = Mastodon(\n",
        "        access_token = 'DdnhXFYeb0z60qCiJUriXu0gYIqLS01-9ZUQHM_qjzg',\n",
        "        api_base_url = 'https://mastodon.social')\n",
        "\n",
        "    @requests_mock.Mocker()\n",
        "    def test_create_post(self, mock):\n",
        "      mock.post('https://mastodon.social/api/v1/statuses', json={'id': 123, 'content': 'Test Post'})\n",
        "      status = self.mastodon.status_post('Test Post')\n",
        "      self.assertEqual(status['id'], 123)\n",
        "      self.assertEqual(status['content'], 'Test Post')\n",
        "\n",
        "    @requests_mock.Mocker()\n",
        "    def test_retrieve_post(self, mock):\n",
        "      mock.get('https://mastodon.social/api/v1/statuses/123', json={'id': 123, 'content': 'Test Post'})\n",
        "      status = self.mastodon.status(123)\n",
        "      self.assertEqual(status['content'], 'Test Post')\n",
        "    @requests_mock.Mocker()\n",
        "    def test_delete_post(self, mock):\n",
        "      mock.delete('https://mastodon.social/api/v1/statuses/123', status_code=200)\n",
        "      response = self.mastodon.status_delete(123)\n",
        "      self.assertIsNone(response)\n",
        "unittest.main(argv=[''], verbosity=2, exit=False)"
      ],
      "metadata": {
        "colab": {
          "base_uri": "https://localhost:8080/"
        },
        "id": "0h-xv4dTUPu-",
        "outputId": "8363dad5-15d9-41d6-92e0-70e454ec8816"
      },
      "execution_count": null,
      "outputs": [
        {
          "output_type": "stream",
          "name": "stderr",
          "text": [
            "\n",
            "----------------------------------------------------------------------\n",
            "Ran 0 tests in 0.000s\n",
            "\n",
            "OK\n"
          ]
        },
        {
          "output_type": "execute_result",
          "data": {
            "text/plain": [
              "<unittest.main.TestProgram at 0x7a1d15000b20>"
            ]
          },
          "metadata": {},
          "execution_count": 11
        }
      ]
    }
  ]
}